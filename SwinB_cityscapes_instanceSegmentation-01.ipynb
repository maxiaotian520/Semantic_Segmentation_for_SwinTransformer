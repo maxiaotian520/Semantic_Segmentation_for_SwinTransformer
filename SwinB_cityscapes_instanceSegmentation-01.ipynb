{
  "nbformat": 4,
  "nbformat_minor": 0,
  "metadata": {
    "accelerator": "GPU",
    "colab": {
      "provenance": [],
      "collapsed_sections": [
        "SrJ32PhtGdNB",
        "wvRY8b9P7UBN",
        "IYHaWQSK8Uzn",
        "Gc07jEeFzzo5",
        "zXf7DbZP8Ypf",
        "ukWBe-8w8e_I",
        "KZBbBrAI5fQK",
        "qyZQ95liAQIl",
        "qaPiHBzqQdfU"
      ],
      "machine_shape": "hm"
    },
    "kernelspec": {
      "display_name": "Python 3",
      "name": "python3"
    },
    "language_info": {
      "name": "python"
    }
  },
  "cells": [
    {
      "cell_type": "code",
      "source": [
        "from google.colab import drive\n",
        "import os\n",
        "\n",
        "drive.mount('/content/drive', force_remount=True)"
      ],
      "metadata": {
        "colab": {
          "base_uri": "https://localhost:8080/"
        },
        "id": "eHe_Tcep0pqD",
        "outputId": "26072b95-3417-4bc6-8a86-698b35f35203"
      },
      "execution_count": 2,
      "outputs": [
        {
          "output_type": "stream",
          "name": "stdout",
          "text": [
            "Mounted at /content/drive\n"
          ]
        }
      ]
    },
    {
      "cell_type": "code",
      "source": [
        "# 解压label数据集包\n",
        "## !unzip /content/drive/MyDrive/Interview_Prep/Machine_Learning/self_driving/cityspace/gtFine_trainvaltest.zip -d /content/drive/MyDrive/Interview_Prep/Machine_Learning/self_driving/cityspace/"
      ],
      "metadata": {
        "id": "ZoUGFljdNayp"
      },
      "execution_count": 2,
      "outputs": []
    },
    {
      "cell_type": "code",
      "metadata": {
        "id": "f2b70Cd04RMN"
      },
      "source": [
        "# Make dir if not exist\n",
        "# !mkdir -p /content/drive/MyDrive/Interview_Prep/Machine_Learning/self_driving/Object-Detection/\n",
        "\n",
        "detection_dir = '/content/drive/MyDrive/Interview_Prep/Machine_Learning/self_driving/Object-Detection'\n",
        "instance_dir = '/content/drive/MyDrive/Interview_Prep/Machine_Learning/self_driving/Object-Detection/Swin-Transformer-Object-Detection/'"
      ],
      "execution_count": 3,
      "outputs": []
    },
    {
      "cell_type": "markdown",
      "metadata": {
        "id": "SrJ32PhtGdNB"
      },
      "source": [
        "# Download prerequisites"
      ]
    },
    {
      "cell_type": "markdown",
      "metadata": {
        "id": "wvRY8b9P7UBN"
      },
      "source": [
        "## Download source code"
      ]
    },
    {
      "cell_type": "code",
      "metadata": {
        "colab": {
          "base_uri": "https://localhost:8080/"
        },
        "id": "6PuxPggM7UOY",
        "collapsed": true,
        "outputId": "ae327508-9f7e-4ec8-e907-564c32cfac52"
      },
      "source": [
        "# os.chdir('/content/drive/MyDrive/Interview_Prep/Machine_Learning/self_driving/Object-Detection')\n",
        "# !git clone https://github.com/ngfuong/Swin-Transformer-Object-Detection.git\n",
        "# !git clone https://github.com/open-mmlab/mmdetection.git"
      ],
      "execution_count": 4,
      "outputs": [
        {
          "output_type": "stream",
          "name": "stdout",
          "text": [
            "Cloning into 'Swin-Transformer-Object-Detection'...\n",
            "remote: Enumerating objects: 16924, done.\u001b[K\n",
            "remote: Total 16924 (delta 0), reused 0 (delta 0), pack-reused 16924\u001b[K\n",
            "Receiving objects: 100% (16924/16924), 21.58 MiB | 17.45 MiB/s, done.\n",
            "Resolving deltas: 100% (11264/11264), done.\n",
            "Updating files: 100% (979/979), done.\n",
            "Cloning into 'mmdetection'...\n",
            "remote: Enumerating objects: 34181, done.\u001b[K\n",
            "remote: Total 34181 (delta 0), reused 0 (delta 0), pack-reused 34181\u001b[K\n",
            "Receiving objects: 100% (34181/34181), 45.57 MiB | 20.91 MiB/s, done.\n",
            "Resolving deltas: 100% (24150/24150), done.\n",
            "Updating files: 100% (1535/1535), done.\n"
          ]
        }
      ]
    },
    {
      "cell_type": "markdown",
      "metadata": {
        "id": "IYHaWQSK8Uzn"
      },
      "source": [
        "## Download environment dependencies"
      ]
    },
    {
      "cell_type": "code",
      "metadata": {
        "id": "afgWngAb7oFb"
      },
      "source": [
        "# os.chdir(instance_dir)\n",
        "# # Download torch torchvision cuda\n",
        "# !wget https://download.pytorch.org/whl/cu101/torch-1.6.0%2Bcu101-cp37-cp37m-linux_x86_64.whl\n",
        "# !wget https://download.pytorch.org/whl/cu101/torchvision-0.7.0%2Bcu101-cp37-cp37m-linux_x86_64.whl\n",
        "# !wget https://download.openmmlab.com/mmcv/dist/cu101/torch1.6.0/mmcv_full-1.3.0-cp37-cp37m-manylinux1_x86_64.whl"
      ],
      "execution_count": null,
      "outputs": []
    },
    {
      "cell_type": "code",
      "metadata": {
        "id": "CUjyX7GKGzM_"
      },
      "source": [
        "# # Clone apex (optional) for mixed precision training\n",
        "# !git clone https://github.com/NVIDIA/apex"
      ],
      "execution_count": null,
      "outputs": []
    },
    {
      "cell_type": "markdown",
      "metadata": {
        "id": "Gc07jEeFzzo5"
      },
      "source": [
        "## Download cityscapes scripts"
      ]
    },
    {
      "cell_type": "code",
      "metadata": {
        "id": "sSjbz8kTz2wq"
      },
      "source": [
        "# os.chdir(instance_dir)\n",
        "# !git clone https://github.com/mcordts/cityscapesScripts.git"
      ],
      "execution_count": null,
      "outputs": []
    },
    {
      "cell_type": "markdown",
      "metadata": {
        "id": "zXf7DbZP8Ypf"
      },
      "source": [
        "## Download pretrain Swin Base ImageNet 22K"
      ]
    },
    {
      "cell_type": "code",
      "metadata": {
        "id": "_RdBg6Mk8RXv"
      },
      "source": [
        "# os.chdir(instance_dir)\n",
        "# !mkdir -p /content/drive/MyDrive/Interview_Prep/Machine_Learning/self_driving/Object-Detection/Swin-Transformer-Object-Detection/checkpoints/\n",
        "# %cd checkpoints\n",
        "# !wget https://github.com/SwinTransformer/storage/releases/download/v1.0.0/swin_base_patch4_window7_224_22k.pth"
      ],
      "execution_count": null,
      "outputs": []
    },
    {
      "cell_type": "markdown",
      "metadata": {
        "id": "ukWBe-8w8e_I"
      },
      "source": [
        "# Install dependencies"
      ]
    },
    {
      "cell_type": "code",
      "metadata": {
        "colab": {
          "base_uri": "https://localhost:8080/"
        },
        "collapsed": true,
        "id": "d2g66lIQHPeV",
        "outputId": "d3d35b8e-32f8-4755-ae6b-0500aa85f871"
      },
      "source": [
        "# Reinstall cocotools\n",
        "# !pip uninstall -y pycocotools\n",
        "# !pip install mmpycocotools\n",
        "# !pip install openmim\n",
        "# !mim install mmcv-full\n",
        "# !mim install mmcv-full==1.4.0 \n",
        "# !pip install mmcv-full==1.4.0\n",
        "# !mim install mmcv-full==1.7.0\n",
        "!pip install mmcv==1.3.18\n",
        "# !pip install mmcv-full==1.7.1 -f https://download.openmmlab.com/mmcv/dist/cu117/torch1.13/index.html"
      ],
      "execution_count": 21,
      "outputs": [
        {
          "output_type": "stream",
          "name": "stdout",
          "text": [
            "Looking in indexes: https://pypi.org/simple, https://us-python.pkg.dev/colab-wheels/public/simple/\n",
            "Requirement already satisfied: mmcv==1.3.18 in /usr/local/lib/python3.8/dist-packages (1.3.18)\n",
            "Requirement already satisfied: Pillow in /usr/local/lib/python3.8/dist-packages (from mmcv==1.3.18) (8.4.0)\n",
            "Requirement already satisfied: pyyaml in /usr/local/lib/python3.8/dist-packages (from mmcv==1.3.18) (6.0)\n",
            "Requirement already satisfied: yapf in /usr/local/lib/python3.8/dist-packages (from mmcv==1.3.18) (0.32.0)\n",
            "Requirement already satisfied: addict in /usr/local/lib/python3.8/dist-packages (from mmcv==1.3.18) (2.4.0)\n",
            "Requirement already satisfied: packaging in /usr/local/lib/python3.8/dist-packages (from mmcv==1.3.18) (23.0)\n",
            "Requirement already satisfied: numpy in /usr/local/lib/python3.8/dist-packages (from mmcv==1.3.18) (1.22.4)\n"
          ]
        }
      ]
    },
    {
      "cell_type": "code",
      "metadata": {
        "collapsed": true,
        "id": "8qhfMyimbean"
      },
      "source": [
        "os.chdir(instance_dir)\n",
        "!python setup.py develop"
      ],
      "execution_count": null,
      "outputs": []
    },
    {
      "cell_type": "code",
      "metadata": {
        "collapsed": true,
        "id": "M5I1bZAOx73R"
      },
      "source": [
        "%cd apex\n",
        "!pip install -v --disable-pip-version-check --no-cache-dir ./"
      ],
      "execution_count": null,
      "outputs": []
    },
    {
      "cell_type": "code",
      "metadata": {
        "id": "5pzW_gQSzp-I"
      },
      "source": [
        "# Install cityscapes scripts\n",
        "cityscripts = '/content/drive/MyDrive/Interview_Prep/Machine_Learning/self_driving/Object-Detection/Swin-Transformer-Object-Detection/cityscapesScripts/'\n",
        "os.chdir(cityscripts)\n",
        "!python ./setup.py install"
      ],
      "execution_count": null,
      "outputs": []
    },
    {
      "cell_type": "markdown",
      "metadata": {
        "id": "dcKK4yTt8p2d"
      },
      "source": [
        "# Prepare Cityscapes dataset"
      ]
    },
    {
      "cell_type": "markdown",
      "metadata": {
        "id": "KZBbBrAI5fQK"
      },
      "source": [
        "## Convert cityscapes to coco format"
      ]
    },
    {
      "cell_type": "code",
      "metadata": {
        "id": "wxL3KlDt5ore"
      },
      "source": [
        "# os.environ['DATA_ROOT'] = \"/content/drive/MyDrive/Interview_Prep/Machine_Learning/self_driving/cityspace\"\n",
        "# os.chdir(instance_dir)\n",
        "# !python ./tools/dataset_converters/cityscapes.py ${DATA_ROOT} --nproc 1 --out-dir ${DATA_ROOT}/annotations"
      ],
      "execution_count": 14,
      "outputs": []
    },
    {
      "cell_type": "markdown",
      "metadata": {
        "id": "hBlsmfoF8xzj"
      },
      "source": [
        "## Create soft link"
      ]
    },
    {
      "cell_type": "code",
      "metadata": {
        "id": "0ZTvRjcRi2bp"
      },
      "source": [
        "os.environ['CITYSCAPES_DATASET'] = \"/content/drive/MyDrive/Interview_Prep/Machine_Learning/self_driving/assets/data/cityscapes\"\n",
        "!rm -rf /content/drive/MyDrive/Interview_Prep/Machine_Learning/self_driving/Object-Detection/Swin-Transformer-Object-Detection/data && mkdir /content/drive/MyDrive/Interview_Prep/Machine_Learning/self_driving/Object-Detection/Swin-Transformer-Object-Detection/data/\n",
        "!ln -s $CITYSCAPES_DATASET /content/drive/MyDrive/Interview_Prep/Machine_Learning/self_driving/Object-Detection/Swin-Transformer-Object-Detection/data"
      ],
      "execution_count": 11,
      "outputs": []
    },
    {
      "cell_type": "markdown",
      "metadata": {
        "id": "gRIHc1tJQmzg"
      },
      "source": [
        "# Train model"
      ]
    },
    {
      "cell_type": "markdown",
      "metadata": {
        "id": "qyZQ95liAQIl"
      },
      "source": [
        "## Train model from pretrained\n",
        "\n"
      ]
    },
    {
      "cell_type": "code",
      "metadata": {
        "id": "d5Q5yf86e9vf"
      },
      "source": [
        "os.chdir(\"/content/\")\n",
        "os.environ['TRAIN'] = \"/content/drive/MyDrive/Interview_Prep/Machine_Learning/self_driving/Object-Detection/Swin-Transformer-Object-Detection/tools/train.py\"\n",
        "os.environ['CONFIGS'] = \"/content/drive/MyDrive/Interview_Prep/Machine_Learning/self_driving/Object-Detection/Swin-Transformer-Object-Detection/configs/swin/cascade_mask_rcnn_swin_base_patch4_window7_mstrain_480-800_giou_4conv1f_adamw_1x_cityscapes.py\"\n",
        "os.environ['WORK_DIR'] = \"/content/drive/MyDrive/Interview_Prep/Machine_Learning/self_driving/Object-Detection/Swin-Transformer-Object-Detection/checkpoints/swin_base_cascade_mask_cityscapes_1x_amp\"\n",
        "os.environ['PRETRAIN'] = \"/content/drive/MyDrive/Interview_Prep/Machine_Learning/self_driving/Object-Detection/Swin-Transformer-Object-Detection/checkpoints/swin_base_patch4_window7_224_22k.pth\"\n",
        "# modify the batch_size by change samples_per_gpu=2 in  Swin-Transformer-Object-Detection/configs/_base_/datasets/cityscapes_instance.py\n",
        "# data_root = '/content/drive/MyDrive/Interview_Prep/Machine_Learning/self_driving/cityspace/' also in cityscapes_instance.py\n",
        "# 更改img_scale 来解决cuda out of memory\n",
        "!python $TRAIN $CONFIGS --work-dir $WORK_DIR --cfg-options model.pretrained=$PRETRAIN"
      ],
      "execution_count": null,
      "outputs": []
    },
    {
      "cell_type": "markdown",
      "metadata": {
        "id": "cBlnJ_wbGrIl"
      },
      "source": [
        "## Resume from checkpoint: classwise=True\n",
        "Edit `epoch_*.pth` name to resume training"
      ]
    },
    {
      "cell_type": "code",
      "metadata": {
        "id": "We7T5InrGrI-"
      },
      "source": [
        "os.chdir(\"/content/\")\n",
        "os.environ['TRAIN'] = \"/content/drive/MyDrive/Interview_Prep/Machine_Learning/self_driving/Object-Detection/Swin-Transformer-Object-Detection/tools/train.py\"\n",
        "os.environ['CONFIGS'] = \"/content/drive/MyDrive/Interview_Prep/Machine_Learning/self_driving/Object-Detection/Swin-Transformer-Object-Detection/configs/swin/cascade_mask_rcnn_swin_base_patch4_window7_mstrain_480-800_giou_4conv1f_adamw_1x_cityscapes.py\"\n",
        "os.environ['WORK_DIR'] = \"/content/drive/MyDrive/Interview_Prep/Machine_Learning/self_driving/Object-Detection/Swin-Transformer-Object-Detection/checkpoints/swin_base_cascade_mask_cityscapes_1x_amp\"\n",
        "os.environ['CHECKPOINT'] = \"/content/drive/MyDrive/Interview_Prep/Machine_Learning/self_driving/Object-Detection/Swin-Transformer-Object-Detection/checkpoints/swin_base_cascade_mask_cityscapes_1x_amp/epoch_*.pth\"\n",
        "!python $TRAIN $CONFIGS --work-dir $WORK_DIR --resume-from $CHECKPOINT --cfg-options evaluation.classwise=True"
      ],
      "execution_count": null,
      "outputs": []
    },
    {
      "cell_type": "markdown",
      "metadata": {
        "id": "qaPiHBzqQdfU"
      },
      "source": [
        "# Tensorboard: Monitor training"
      ]
    },
    {
      "cell_type": "code",
      "metadata": {
        "id": "3plP-JW_pYKK",
        "collapsed": true
      },
      "source": [
        "%load_ext tensorboard\n",
        "%tensorboard --logdir \"/content/drive/MyDrive/Interview_Prep/Machine_Learning/self_driving/Object-Detection/Swin-Transformer-Object-Detection/checkpoints/swin_base_cascade_mask_cityscapes_1x_amp/tf_logs\""
      ],
      "execution_count": null,
      "outputs": []
    },
    {
      "cell_type": "markdown",
      "metadata": {
        "id": "YRQQQSeOI5T9"
      },
      "source": [
        "# Evaluation"
      ]
    },
    {
      "cell_type": "code",
      "metadata": {
        "id": "KbcPVQbU_eAh",
        "collapsed": true
      },
      "source": [
        "# Benchmark on cityscapes: classwise=True\n",
        "os.chdir('/content/')\n",
        "os.environ['TEST'] = \"/content/drive/MyDrive/Interview_Prep/Machine_Learning/self_driving/Object-Detection/mmdetection/tools/test.py\"\n",
        "os.environ['CONFIGS'] = \"/content/drive/MyDrive/Interview_Prep/Machine_Learning/self_driving/Object-Detection/Swin-Transformer-Object-Detection/configs/swin/cascade_mask_rcnn_swin_base_patch4_window7_mstrain_480-800_giou_4conv1f_adamw_1x_cityscapes.py\"\n",
        "os.environ['CHECKPOINT'] = \"/content/drive/MyDrive/Interview_Prep/Machine_Learning/self_driving/Object-Detection/Swin-Transformer-Object-Detection/checkpoints/swin_base_cascade_mask_cityscapes_1x_amp/latest.pth\"\n",
        "os.environ['RESULT'] = \"/content/drive/MyDrive/Interview_Prep/Machine_Learning/self_driving/Object-Detection/Swin-Transformer-Object-Detection/checkpoints/swin_base_cascade_mask_cityscapes_1x_amp/results/\"\n",
        "\n",
        "!python $TEST $CONFIGS $CHECKPOINT --eval segm --eval-options classwise=True "
      ],
      "execution_count": null,
      "outputs": []
    },
    {
      "cell_type": "code",
      "metadata": {
        "id": "2onSaPm9NQtl"
      },
      "source": [
        "# Export predictions\n",
        "os.chdir('/content/')\n",
        "os.environ['TEST'] = \"/content/drive/MyDrive/Interview_Prep/Machine_Learning/self_driving/Object-Detection/Swin-Transformer-Object-Detection/tools/test.py\"\n",
        "os.environ['CONFIGS'] = \"/content/drive/MyDrive/Interview_Prep/Machine_Learning/self_driving/Object-Detection/Swin-Transformer-Object-Detection/configs/swin/cascade_mask_rcnn_swin_base_patch4_window7_mstrain_480-800_giou_4conv1f_adamw_1x_cityscapes.py\"\n",
        "os.environ['CHECKPOINT'] = \"/content/drive/MyDrive/Interview_Prep/Machine_Learning/self_driving/Object-Detection/Swin-Transformer-Object-Detection/checkpoints/swin_base_cascade_mask_cityscapes_1x_amp/latest.pth\"\n",
        "os.environ['RESULT'] = \"/content/drive/MyDrive/Interview_Prep/Machine_Learning/self_driving/Object-Detection/Swin-Transformer-Object-Detection/checkpoints/swin_base_cascade_mask_cityscapes_1x_amp/results-05-095/\"\n",
        "!rm -rf $RESULT\n",
        "!python $TEST $CONFIGS $CHECKPOINT --format-only --eval-options txtfile_prefix=$RESULT"
      ],
      "execution_count": null,
      "outputs": []
    },
    {
      "cell_type": "code",
      "metadata": {
        "colab": {
          "base_uri": "https://localhost:8080/"
        },
        "id": "WFTGM60qJzex",
        "collapsed": true,
        "outputId": "fad43690-860b-4eff-a5f4-e8fa59d02e3f"
      },
      "source": [
        "# Evaluate predictions: This uses Cityscapes evalutation protocol so scores are higher\n",
        "os.environ['EVAL'] = \"/content/drive/MyDrive/Interview_Prep/Machine_Learning/self_driving/Object-Detection/cityscapesScripts/cityscapesscripts/evaluation/evalInstanceLevelSemanticLabeling.py\"\n",
        "os.environ['CONFIGS'] = \"/content/drive/MyDrive/Interview_Prep/Machine_Learning/self_driving/Object-Detection/Swin-Transformer-Object-Detection/configs/swin/cascade_mask_rcnn_swin_base_patch4_window7_mstrain_480-800_giou_4conv1f_adamw_1x_cityscapes.py\"\n",
        "os.environ['CHECKPOINT'] = \"/content/drive/MyDrive/Interview_Prep/Machine_Learning/self_driving/Object-Detection/Swin-Transformer-Object-Detection/checkpoints/swin_base_cascade_mask_cityscapes_1x_amp/latest.pth\"\n",
        "os.environ['CITYSCAPES_RESULTS'] = \"/content/drive/MyDrive/Interview_Prep/Machine_Learning/self_driving/Object-Detection/Swin-Transformer-Object-Detection/checkpoints/swin_base_cascade_mask_cityscapes_1x_amp/results-05-095/\"\n",
        "os.environ['CITYSCAPES_DATASET'] = \"/content/drive/MyDrive/Interview_Prep/Machine_Learning/self_driving/assets/data/cityscapes\"\n",
        "\n",
        "!python $EVAL"
      ],
      "execution_count": 21,
      "outputs": [
        {
          "output_type": "stream",
          "name": "stdout",
          "text": [
            "python3: can't open file '/content/drive/MyDrive/Interview_Prep/Machine_Learning/self_driving/Object-Detection/cityscapesScripts/cityscapesscripts/evaluation/evalInstanceLevelSemanticLabeling.py': [Errno 2] No such file or directory\n"
          ]
        }
      ]
    },
    {
      "cell_type": "markdown",
      "source": [
        "# Inference"
      ],
      "metadata": {
        "id": "k65UxsOm5tlC"
      }
    },
    {
      "cell_type": "code",
      "source": [
        "# single-gpu testing\n",
        "python tools/test.py <CONFIG_FILE> <DET_CHECKPOINT_FILE> --eval bbox segm\n",
        "\n",
        "# multi-gpu testing\n",
        "tools/dist_test.sh <CONFIG_FILE> <DET_CHECKPOINT_FILE> <GPU_NUM> --eval bbox segm"
      ],
      "metadata": {
        "id": "t9bf-API5rwx"
      },
      "execution_count": null,
      "outputs": []
    },
    {
      "cell_type": "markdown",
      "metadata": {
        "id": "4kamOEuspaCG"
      },
      "source": [
        "# Publish model"
      ]
    },
    {
      "cell_type": "code",
      "metadata": {
        "collapsed": true,
        "id": "crEFMCWSpcjp"
      },
      "source": [
        "# Get flops \n",
        "os.environ['GET_FLOPS'] = \"/content/drive/MyDrive/Interview_Prep/Machine_Learning/self_driving/Object-Detection/mmdetection/tools/analysis_tools/get_flops.py\"\n",
        "os.environ['CONFIGS'] = \"/content/drive/MyDrive/Interview_Prep/Machine_Learning/self_driving/Object-Detection/Swin-Transformer-Object-Detection/configs/swin/cascade_mask_rcnn_swin_base_patch4_window7_mstrain_480-800_giou_4conv1f_adamw_1x_cityscapes.py\"\n",
        "\n",
        "!python $GET_FLOPS $CONFIGS"
      ],
      "execution_count": null,
      "outputs": []
    },
    {
      "cell_type": "code",
      "metadata": {
        "collapsed": true,
        "id": "uOdo9WSJqADF"
      },
      "source": [
        "# Benchmark\n",
        "os.environ['BENCH'] = \"/content/drive/MyDrive/Interview_Prep/Machine_Learning/self_driving/Object-Detection/Swin-Transformer-Object-Detection/tools/analysis_tools/benchmark.py\"\n",
        "os.environ['CONFIGS'] = \"/content/drive/MyDrive/Interview_Prep/Machine_Learning/self_driving/Object-Detection/Swin-Transformer-Object-Detection/configs/swin/cascade_mask_rcnn_swin_base_patch4_window7_mstrain_480-800_giou_4conv1f_adamw_1x_cityscapes.py\"\n",
        "os.environ['CHECKPOINT'] = \"/content/drive/MyDrive/Interview_Prep/Machine_Learning/self_driving/Object-Detection/Swin-Transformer-Object-Detection/checkpoints/swin_base_cascade_mask_cityscapes_1x_amp/latest.pth\"\n",
        "\n",
        "!python $BENCH $CONFIGS $CHECKPOINT"
      ],
      "execution_count": null,
      "outputs": []
    },
    {
      "cell_type": "code",
      "metadata": {
        "id": "WebO25LAgT8I"
      },
      "source": [
        "# Publish model\n",
        "os.chdir(instance_dir)\n",
        "os.environ['CHECKPOINT'] = \"checkpoints/swin_base_cascade_mask_cityscapes_1x_amp/latest.pth\"\n",
        "\n",
        "!python tools/model_converters/publish_model.py $CHECKPOINT checkpoints/swin_base_cascade_mask_cityscapes_1x_amp/cascade_rcnn_swin_fpn_9e_20210719.pth"
      ],
      "execution_count": null,
      "outputs": []
    },
    {
      "cell_type": "markdown",
      "metadata": {
        "id": "kN6HLq4vFfv_"
      },
      "source": [
        "# Plot"
      ]
    },
    {
      "cell_type": "code",
      "metadata": {
        "id": "Gsa3oFaDavom"
      },
      "source": [
        "import json\n",
        "import numpy as np\n",
        "import pandas as pd\n",
        "\n",
        "results_file = \"/content/drive/MyDrive/Interview_Prep/Machine_Learning/self_driving/assets/data/cityscapes/evaluationResults/resultInstanceLevelSemanticLabeling.json\"\n",
        "with open(results_file, 'r') as f:\n",
        "  AP_dict = json.load(f)"
      ],
      "execution_count": null,
      "outputs": []
    },
    {
      "cell_type": "code",
      "metadata": {
        "id": "N7oyV0a2aVRs"
      },
      "source": [
        "import matplotlib.pyplot as plt\n",
        "\n",
        "labels = AP_dict[\"instLabels\"]\n",
        "result_matrices = AP_dict['resultApMatrix'][0]\n",
        "IOUs = AP_dict['overlaps']"
      ],
      "execution_count": null,
      "outputs": []
    },
    {
      "cell_type": "code",
      "metadata": {
        "id": "B5MBCSQ4UKIL"
      },
      "source": [
        "df = pd.DataFrame({'IOU':IOUs})\n",
        "for label in labels:\n",
        "  label_index = labels.index(label)\n",
        "  df[label] = sorted(result_matrices[label_index], reverse=True)\n",
        "df.to_csv('/content/swin-instance-iou.csv')"
      ],
      "execution_count": null,
      "outputs": []
    },
    {
      "cell_type": "code",
      "metadata": {
        "collapsed": true,
        "id": "_Zer6lPkF65g"
      },
      "source": [
        "plt.rcParams['figure.figsize'] = [12,7]\n",
        "df.plot(x='IOU', y=labels)\n",
        "plt.xlabel('IOU threshold')\n",
        "plt.ylabel('Average Precision')\n",
        "plt.xticks(np.arange(0,1,0.05))\n",
        "plt.savefig('/content/swin-ap-curve.eps', format='eps', dpi=2400)"
      ],
      "execution_count": null,
      "outputs": []
    },
    {
      "cell_type": "code",
      "metadata": {
        "id": "jIWHMI6jdFYM"
      },
      "source": [
        "df['mean'] = df.mean(axis=1)\n",
        "df"
      ],
      "execution_count": null,
      "outputs": []
    },
    {
      "cell_type": "code",
      "metadata": {
        "id": "CyXxKIwLhSdC"
      },
      "source": [
        "plt.rcParams['figure.figsize'] = [10,5]\n",
        "df.plot(x='mean', y='IOU')\n",
        "plt.xlabel('Mean Average Precision')\n",
        "plt.ylabel('IOU')\n",
        "plt.yticks(np.arange(0,1,0.05))"
      ],
      "execution_count": null,
      "outputs": []
    }
  ]
}